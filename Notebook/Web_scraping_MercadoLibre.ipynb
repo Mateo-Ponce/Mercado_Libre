{
 "cells": [
  {
   "cell_type": "code",
   "execution_count": null,
   "id": "f3789699",
   "metadata": {},
   "outputs": [
    {
     "name": "stderr",
     "output_type": "stream",
     "text": [
      "Error occurred during getting browser(s): random, but was suppressed with fallback.\n"
     ]
    },
    {
     "name": "stdout",
     "output_type": "stream",
     "text": [
      "Tabla de productos verificada/creada correctamente.\n",
      "Obteniendo enlaces de 10 páginas...\n"
     ]
    },
    {
     "name": "stderr",
     "output_type": "stream",
     "text": [
      "Error occurred during getting browser(s): random, but was suppressed with fallback.\n",
      "Error occurred during getting browser(s): random, but was suppressed with fallback.\n",
      "Error occurred during getting browser(s): random, but was suppressed with fallback.\n",
      "Error occurred during getting browser(s): random, but was suppressed with fallback.\n",
      "Error occurred during getting browser(s): random, but was suppressed with fallback.\n",
      "Error occurred during getting browser(s): random, but was suppressed with fallback.\n",
      "Error occurred during getting browser(s): random, but was suppressed with fallback.\n",
      "Error occurred during getting browser(s): random, but was suppressed with fallback.\n",
      "Error occurred during getting browser(s): random, but was suppressed with fallback.\n",
      "Error occurred during getting browser(s): random, but was suppressed with fallback.\n",
      "Error occurred during getting browser(s): random, but was suppressed with fallback.\n",
      "Error occurred during getting browser(s): random, but was suppressed with fallback.\n",
      "Error occurred during getting browser(s): random, but was suppressed with fallback.\n",
      "Error occurred during getting browser(s): random, but was suppressed with fallback.\n",
      "Error occurred during getting browser(s): random, but was suppressed with fallback.\n",
      "Error occurred during getting browser(s): random, but was suppressed with fallback.\n",
      "Error occurred during getting browser(s): random, but was suppressed with fallback.\n",
      "Error occurred during getting browser(s): random, but was suppressed with fallback.\n",
      "Error occurred during getting browser(s): random, but was suppressed with fallback.\n"
     ]
    },
    {
     "name": "stdout",
     "output_type": "stream",
     "text": [
      "Se encontraron 489 enlaces únicos.\n",
      "Extrayendo datos de productos...\n"
     ]
    },
    {
     "name": "stderr",
     "output_type": "stream",
     "text": [
      "Error occurred during getting browser(s): random, but was suppressed with fallback.\n",
      "Error occurred during getting browser(s): random, but was suppressed with fallback.\n",
      "Error occurred during getting browser(s): random, but was suppressed with fallback.\n",
      "Error occurred during getting browser(s): random, but was suppressed with fallback.\n",
      "Error occurred during getting browser(s): random, but was suppressed with fallback.\n",
      "Error occurred during getting browser(s): random, but was suppressed with fallback.\n",
      "Error occurred during getting browser(s): random, but was suppressed with fallback.\n",
      "Error occurred during getting browser(s): random, but was suppressed with fallback.\n",
      "Error occurred during getting browser(s): random, but was suppressed with fallback.\n",
      "Error occurred during getting browser(s): random, but was suppressed with fallback.\n",
      "Error occurred during getting browser(s): random, but was suppressed with fallback.\n"
     ]
    },
    {
     "name": "stdout",
     "output_type": "stream",
     "text": [
      "Procesados 10/489 productos\n"
     ]
    },
    {
     "name": "stderr",
     "output_type": "stream",
     "text": [
      "Error occurred during getting browser(s): random, but was suppressed with fallback.\n",
      "Error occurred during getting browser(s): random, but was suppressed with fallback.\n",
      "Error occurred during getting browser(s): random, but was suppressed with fallback.\n",
      "Error occurred during getting browser(s): random, but was suppressed with fallback.\n",
      "Error occurred during getting browser(s): random, but was suppressed with fallback.\n",
      "Error occurred during getting browser(s): random, but was suppressed with fallback.\n",
      "Error occurred during getting browser(s): random, but was suppressed with fallback.\n",
      "Error occurred during getting browser(s): random, but was suppressed with fallback.\n",
      "Error occurred during getting browser(s): random, but was suppressed with fallback.\n",
      "Error occurred during getting browser(s): random, but was suppressed with fallback.\n"
     ]
    },
    {
     "name": "stdout",
     "output_type": "stream",
     "text": [
      "Procesados 20/489 productos\n"
     ]
    },
    {
     "name": "stderr",
     "output_type": "stream",
     "text": [
      "Error occurred during getting browser(s): random, but was suppressed with fallback.\n",
      "Error occurred during getting browser(s): random, but was suppressed with fallback.\n",
      "Error occurred during getting browser(s): random, but was suppressed with fallback.\n",
      "Error occurred during getting browser(s): random, but was suppressed with fallback.\n",
      "Error occurred during getting browser(s): random, but was suppressed with fallback.\n",
      "Error occurred during getting browser(s): random, but was suppressed with fallback.\n",
      "Error occurred during getting browser(s): random, but was suppressed with fallback.\n",
      "Error occurred during getting browser(s): random, but was suppressed with fallback.\n",
      "Error occurred during getting browser(s): random, but was suppressed with fallback.\n",
      "Error occurred during getting browser(s): random, but was suppressed with fallback.\n",
      "Error occurred during getting browser(s): random, but was suppressed with fallback.\n",
      "Error occurred during getting browser(s): random, but was suppressed with fallback.\n"
     ]
    },
    {
     "name": "stdout",
     "output_type": "stream",
     "text": [
      "Procesados 30/489 productos\n"
     ]
    },
    {
     "name": "stderr",
     "output_type": "stream",
     "text": [
      "Error occurred during getting browser(s): random, but was suppressed with fallback.\n",
      "Error occurred during getting browser(s): random, but was suppressed with fallback.\n",
      "Error occurred during getting browser(s): random, but was suppressed with fallback.\n",
      "Error occurred during getting browser(s): random, but was suppressed with fallback.\n",
      "Error occurred during getting browser(s): random, but was suppressed with fallback.\n",
      "Error occurred during getting browser(s): random, but was suppressed with fallback.\n",
      "Error occurred during getting browser(s): random, but was suppressed with fallback.\n",
      "Error occurred during getting browser(s): random, but was suppressed with fallback.\n",
      "Error occurred during getting browser(s): random, but was suppressed with fallback.\n"
     ]
    },
    {
     "name": "stdout",
     "output_type": "stream",
     "text": [
      "Procesados 40/489 productos\n"
     ]
    },
    {
     "name": "stderr",
     "output_type": "stream",
     "text": [
      "Error occurred during getting browser(s): random, but was suppressed with fallback.\n",
      "Error occurred during getting browser(s): random, but was suppressed with fallback.\n",
      "Error occurred during getting browser(s): random, but was suppressed with fallback.\n",
      "Error occurred during getting browser(s): random, but was suppressed with fallback.\n",
      "Error occurred during getting browser(s): random, but was suppressed with fallback.\n",
      "Error occurred during getting browser(s): random, but was suppressed with fallback.\n",
      "Error occurred during getting browser(s): random, but was suppressed with fallback.\n",
      "Error occurred during getting browser(s): random, but was suppressed with fallback.\n",
      "Error occurred during getting browser(s): random, but was suppressed with fallback.\n",
      "Error occurred during getting browser(s): random, but was suppressed with fallback.\n"
     ]
    },
    {
     "name": "stdout",
     "output_type": "stream",
     "text": [
      "Procesados 50/489 productos\n"
     ]
    },
    {
     "name": "stderr",
     "output_type": "stream",
     "text": [
      "Error occurred during getting browser(s): random, but was suppressed with fallback.\n",
      "Error occurred during getting browser(s): random, but was suppressed with fallback.\n",
      "Error occurred during getting browser(s): random, but was suppressed with fallback.\n",
      "Error occurred during getting browser(s): random, but was suppressed with fallback.\n",
      "Error occurred during getting browser(s): random, but was suppressed with fallback.\n",
      "Error occurred during getting browser(s): random, but was suppressed with fallback.\n",
      "Error occurred during getting browser(s): random, but was suppressed with fallback.\n",
      "Error occurred during getting browser(s): random, but was suppressed with fallback.\n",
      "Error occurred during getting browser(s): random, but was suppressed with fallback.\n",
      "Error occurred during getting browser(s): random, but was suppressed with fallback.\n",
      "Error occurred during getting browser(s): random, but was suppressed with fallback.\n"
     ]
    },
    {
     "name": "stdout",
     "output_type": "stream",
     "text": [
      "Procesados 60/489 productos\n"
     ]
    },
    {
     "name": "stderr",
     "output_type": "stream",
     "text": [
      "Error occurred during getting browser(s): random, but was suppressed with fallback.\n",
      "Error occurred during getting browser(s): random, but was suppressed with fallback.\n",
      "Error occurred during getting browser(s): random, but was suppressed with fallback.\n",
      "Error occurred during getting browser(s): random, but was suppressed with fallback.\n",
      "Error occurred during getting browser(s): random, but was suppressed with fallback.\n",
      "Error occurred during getting browser(s): random, but was suppressed with fallback.\n",
      "Error occurred during getting browser(s): random, but was suppressed with fallback.\n",
      "Error occurred during getting browser(s): random, but was suppressed with fallback.\n",
      "Error occurred during getting browser(s): random, but was suppressed with fallback.\n",
      "Error occurred during getting browser(s): random, but was suppressed with fallback.\n"
     ]
    },
    {
     "name": "stdout",
     "output_type": "stream",
     "text": [
      "Procesados 70/489 productos\n"
     ]
    },
    {
     "name": "stderr",
     "output_type": "stream",
     "text": [
      "Error occurred during getting browser(s): random, but was suppressed with fallback.\n",
      "Error occurred during getting browser(s): random, but was suppressed with fallback.\n",
      "Error occurred during getting browser(s): random, but was suppressed with fallback.\n",
      "Error occurred during getting browser(s): random, but was suppressed with fallback.\n",
      "Error occurred during getting browser(s): random, but was suppressed with fallback.\n",
      "Error occurred during getting browser(s): random, but was suppressed with fallback.\n",
      "Error occurred during getting browser(s): random, but was suppressed with fallback.\n",
      "Error occurred during getting browser(s): random, but was suppressed with fallback.\n",
      "Error occurred during getting browser(s): random, but was suppressed with fallback.\n",
      "Error occurred during getting browser(s): random, but was suppressed with fallback.\n"
     ]
    },
    {
     "name": "stdout",
     "output_type": "stream",
     "text": [
      "Procesados 80/489 productos\n"
     ]
    },
    {
     "name": "stderr",
     "output_type": "stream",
     "text": [
      "Error occurred during getting browser(s): random, but was suppressed with fallback.\n",
      "Error occurred during getting browser(s): random, but was suppressed with fallback.\n",
      "Error occurred during getting browser(s): random, but was suppressed with fallback.\n",
      "Error occurred during getting browser(s): random, but was suppressed with fallback.\n",
      "Error occurred during getting browser(s): random, but was suppressed with fallback.\n",
      "Error occurred during getting browser(s): random, but was suppressed with fallback.\n",
      "Error occurred during getting browser(s): random, but was suppressed with fallback.\n"
     ]
    },
    {
     "name": "stdout",
     "output_type": "stream",
     "text": [
      "Procesados 90/489 productos\n"
     ]
    },
    {
     "name": "stderr",
     "output_type": "stream",
     "text": [
      "Error occurred during getting browser(s): random, but was suppressed with fallback.\n",
      "Error occurred during getting browser(s): random, but was suppressed with fallback.\n",
      "Error occurred during getting browser(s): random, but was suppressed with fallback.\n",
      "Error occurred during getting browser(s): random, but was suppressed with fallback.\n",
      "Error occurred during getting browser(s): random, but was suppressed with fallback.\n",
      "Error occurred during getting browser(s): random, but was suppressed with fallback.\n",
      "Error occurred during getting browser(s): random, but was suppressed with fallback.\n",
      "Error occurred during getting browser(s): random, but was suppressed with fallback.\n",
      "Error occurred during getting browser(s): random, but was suppressed with fallback.\n",
      "Error occurred during getting browser(s): random, but was suppressed with fallback.\n"
     ]
    },
    {
     "name": "stdout",
     "output_type": "stream",
     "text": [
      "Procesados 100/489 productos\n"
     ]
    },
    {
     "name": "stderr",
     "output_type": "stream",
     "text": [
      "Error occurred during getting browser(s): random, but was suppressed with fallback.\n",
      "Error occurred during getting browser(s): random, but was suppressed with fallback.\n",
      "Error occurred during getting browser(s): random, but was suppressed with fallback.\n",
      "Error occurred during getting browser(s): random, but was suppressed with fallback.\n",
      "Error occurred during getting browser(s): random, but was suppressed with fallback.\n",
      "Error occurred during getting browser(s): random, but was suppressed with fallback.\n",
      "Error occurred during getting browser(s): random, but was suppressed with fallback.\n",
      "Error occurred during getting browser(s): random, but was suppressed with fallback.\n",
      "Error occurred during getting browser(s): random, but was suppressed with fallback.\n",
      "Error occurred during getting browser(s): random, but was suppressed with fallback.\n",
      "Error occurred during getting browser(s): random, but was suppressed with fallback.\n",
      "Error occurred during getting browser(s): random, but was suppressed with fallback.\n"
     ]
    },
    {
     "name": "stdout",
     "output_type": "stream",
     "text": [
      "Procesados 110/489 productos\n"
     ]
    },
    {
     "name": "stderr",
     "output_type": "stream",
     "text": [
      "Error occurred during getting browser(s): random, but was suppressed with fallback.\n",
      "Error occurred during getting browser(s): random, but was suppressed with fallback.\n",
      "Error occurred during getting browser(s): random, but was suppressed with fallback.\n",
      "Error occurred during getting browser(s): random, but was suppressed with fallback.\n",
      "Error occurred during getting browser(s): random, but was suppressed with fallback.\n",
      "Error occurred during getting browser(s): random, but was suppressed with fallback.\n",
      "Error occurred during getting browser(s): random, but was suppressed with fallback.\n",
      "Error occurred during getting browser(s): random, but was suppressed with fallback.\n",
      "Error occurred during getting browser(s): random, but was suppressed with fallback.\n",
      "Error occurred during getting browser(s): random, but was suppressed with fallback.\n"
     ]
    },
    {
     "name": "stdout",
     "output_type": "stream",
     "text": [
      "Procesados 120/489 productos\n"
     ]
    },
    {
     "name": "stderr",
     "output_type": "stream",
     "text": [
      "Error occurred during getting browser(s): random, but was suppressed with fallback.\n",
      "Error occurred during getting browser(s): random, but was suppressed with fallback.\n",
      "Error occurred during getting browser(s): random, but was suppressed with fallback.\n",
      "Error occurred during getting browser(s): random, but was suppressed with fallback.\n",
      "Error occurred during getting browser(s): random, but was suppressed with fallback.\n",
      "Error occurred during getting browser(s): random, but was suppressed with fallback.\n",
      "Error occurred during getting browser(s): random, but was suppressed with fallback.\n",
      "Error occurred during getting browser(s): random, but was suppressed with fallback.\n",
      "Error occurred during getting browser(s): random, but was suppressed with fallback.\n",
      "Error occurred during getting browser(s): random, but was suppressed with fallback.\n",
      "Error occurred during getting browser(s): random, but was suppressed with fallback.\n",
      "Error occurred during getting browser(s): random, but was suppressed with fallback.\n"
     ]
    },
    {
     "name": "stdout",
     "output_type": "stream",
     "text": [
      "Procesados 130/489 productos\n"
     ]
    },
    {
     "name": "stderr",
     "output_type": "stream",
     "text": [
      "Error occurred during getting browser(s): random, but was suppressed with fallback.\n",
      "Error occurred during getting browser(s): random, but was suppressed with fallback.\n",
      "Error occurred during getting browser(s): random, but was suppressed with fallback.\n",
      "Error occurred during getting browser(s): random, but was suppressed with fallback.\n",
      "Error occurred during getting browser(s): random, but was suppressed with fallback.\n",
      "Error occurred during getting browser(s): random, but was suppressed with fallback.\n",
      "Error occurred during getting browser(s): random, but was suppressed with fallback.\n",
      "Error occurred during getting browser(s): random, but was suppressed with fallback.\n"
     ]
    },
    {
     "name": "stdout",
     "output_type": "stream",
     "text": [
      "Procesados 140/489 productos\n"
     ]
    },
    {
     "name": "stderr",
     "output_type": "stream",
     "text": [
      "Error occurred during getting browser(s): random, but was suppressed with fallback.\n",
      "Error occurred during getting browser(s): random, but was suppressed with fallback.\n",
      "Error occurred during getting browser(s): random, but was suppressed with fallback.\n",
      "Error occurred during getting browser(s): random, but was suppressed with fallback.\n",
      "Error occurred during getting browser(s): random, but was suppressed with fallback.\n",
      "Error occurred during getting browser(s): random, but was suppressed with fallback.\n",
      "Error occurred during getting browser(s): random, but was suppressed with fallback.\n",
      "Error occurred during getting browser(s): random, but was suppressed with fallback.\n",
      "Error occurred during getting browser(s): random, but was suppressed with fallback.\n",
      "Error occurred during getting browser(s): random, but was suppressed with fallback.\n",
      "Error occurred during getting browser(s): random, but was suppressed with fallback.\n"
     ]
    },
    {
     "name": "stdout",
     "output_type": "stream",
     "text": [
      "Procesados 150/489 productos\n"
     ]
    },
    {
     "name": "stderr",
     "output_type": "stream",
     "text": [
      "Error occurred during getting browser(s): random, but was suppressed with fallback.\n",
      "Error occurred during getting browser(s): random, but was suppressed with fallback.\n",
      "Error occurred during getting browser(s): random, but was suppressed with fallback.\n",
      "Error occurred during getting browser(s): random, but was suppressed with fallback.\n",
      "Error occurred during getting browser(s): random, but was suppressed with fallback.\n",
      "Error occurred during getting browser(s): random, but was suppressed with fallback.\n",
      "Error occurred during getting browser(s): random, but was suppressed with fallback.\n",
      "Error occurred during getting browser(s): random, but was suppressed with fallback.\n",
      "Error occurred during getting browser(s): random, but was suppressed with fallback.\n",
      "Error occurred during getting browser(s): random, but was suppressed with fallback.\n",
      "Error occurred during getting browser(s): random, but was suppressed with fallback.\n"
     ]
    },
    {
     "name": "stdout",
     "output_type": "stream",
     "text": [
      "Procesados 160/489 productos\n"
     ]
    },
    {
     "name": "stderr",
     "output_type": "stream",
     "text": [
      "Error occurred during getting browser(s): random, but was suppressed with fallback.\n",
      "Error occurred during getting browser(s): random, but was suppressed with fallback.\n",
      "Error occurred during getting browser(s): random, but was suppressed with fallback.\n",
      "Error occurred during getting browser(s): random, but was suppressed with fallback.\n",
      "Error occurred during getting browser(s): random, but was suppressed with fallback.\n",
      "Error occurred during getting browser(s): random, but was suppressed with fallback.\n",
      "Error occurred during getting browser(s): random, but was suppressed with fallback.\n",
      "Error occurred during getting browser(s): random, but was suppressed with fallback.\n"
     ]
    },
    {
     "name": "stdout",
     "output_type": "stream",
     "text": [
      "Procesados 170/489 productos\n"
     ]
    },
    {
     "name": "stderr",
     "output_type": "stream",
     "text": [
      "Error occurred during getting browser(s): random, but was suppressed with fallback.\n",
      "Error occurred during getting browser(s): random, but was suppressed with fallback.\n",
      "Error occurred during getting browser(s): random, but was suppressed with fallback.\n",
      "Error occurred during getting browser(s): random, but was suppressed with fallback.\n",
      "Error occurred during getting browser(s): random, but was suppressed with fallback.\n",
      "Error occurred during getting browser(s): random, but was suppressed with fallback.\n",
      "Error occurred during getting browser(s): random, but was suppressed with fallback.\n",
      "Error occurred during getting browser(s): random, but was suppressed with fallback.\n",
      "Error occurred during getting browser(s): random, but was suppressed with fallback.\n",
      "Error occurred during getting browser(s): random, but was suppressed with fallback.\n",
      "Error occurred during getting browser(s): random, but was suppressed with fallback.\n"
     ]
    },
    {
     "name": "stdout",
     "output_type": "stream",
     "text": [
      "Procesados 180/489 productos\n"
     ]
    },
    {
     "name": "stderr",
     "output_type": "stream",
     "text": [
      "Error occurred during getting browser(s): random, but was suppressed with fallback.\n",
      "Error occurred during getting browser(s): random, but was suppressed with fallback.\n",
      "Error occurred during getting browser(s): random, but was suppressed with fallback.\n",
      "Error occurred during getting browser(s): random, but was suppressed with fallback.\n",
      "Error occurred during getting browser(s): random, but was suppressed with fallback.\n",
      "Error occurred during getting browser(s): random, but was suppressed with fallback.\n",
      "Error occurred during getting browser(s): random, but was suppressed with fallback.\n"
     ]
    },
    {
     "name": "stdout",
     "output_type": "stream",
     "text": [
      "Procesados 190/489 productos\n"
     ]
    },
    {
     "name": "stderr",
     "output_type": "stream",
     "text": [
      "Error occurred during getting browser(s): random, but was suppressed with fallback.\n",
      "Error occurred during getting browser(s): random, but was suppressed with fallback.\n",
      "Error occurred during getting browser(s): random, but was suppressed with fallback.\n",
      "Error occurred during getting browser(s): random, but was suppressed with fallback.\n",
      "Error occurred during getting browser(s): random, but was suppressed with fallback.\n",
      "Error occurred during getting browser(s): random, but was suppressed with fallback.\n",
      "Error occurred during getting browser(s): random, but was suppressed with fallback.\n",
      "Error occurred during getting browser(s): random, but was suppressed with fallback.\n",
      "Error occurred during getting browser(s): random, but was suppressed with fallback.\n",
      "Error occurred during getting browser(s): random, but was suppressed with fallback.\n",
      "Error occurred during getting browser(s): random, but was suppressed with fallback.\n"
     ]
    },
    {
     "name": "stdout",
     "output_type": "stream",
     "text": [
      "Procesados 200/489 productos\n"
     ]
    },
    {
     "name": "stderr",
     "output_type": "stream",
     "text": [
      "Error occurred during getting browser(s): random, but was suppressed with fallback.\n",
      "Error occurred during getting browser(s): random, but was suppressed with fallback.\n",
      "Error occurred during getting browser(s): random, but was suppressed with fallback.\n",
      "Error occurred during getting browser(s): random, but was suppressed with fallback.\n",
      "Error occurred during getting browser(s): random, but was suppressed with fallback.\n",
      "Error occurred during getting browser(s): random, but was suppressed with fallback.\n",
      "Error occurred during getting browser(s): random, but was suppressed with fallback.\n",
      "Error occurred during getting browser(s): random, but was suppressed with fallback.\n",
      "Error occurred during getting browser(s): random, but was suppressed with fallback.\n",
      "Error occurred during getting browser(s): random, but was suppressed with fallback.\n",
      "Error occurred during getting browser(s): random, but was suppressed with fallback.\n"
     ]
    },
    {
     "name": "stdout",
     "output_type": "stream",
     "text": [
      "Procesados 210/489 productos\n"
     ]
    },
    {
     "name": "stderr",
     "output_type": "stream",
     "text": [
      "Error occurred during getting browser(s): random, but was suppressed with fallback.\n",
      "Error occurred during getting browser(s): random, but was suppressed with fallback.\n",
      "Error occurred during getting browser(s): random, but was suppressed with fallback.\n",
      "Error occurred during getting browser(s): random, but was suppressed with fallback.\n",
      "Error occurred during getting browser(s): random, but was suppressed with fallback.\n",
      "Error occurred during getting browser(s): random, but was suppressed with fallback.\n",
      "Error occurred during getting browser(s): random, but was suppressed with fallback.\n",
      "Error occurred during getting browser(s): random, but was suppressed with fallback.\n",
      "Error occurred during getting browser(s): random, but was suppressed with fallback.\n",
      "Error occurred during getting browser(s): random, but was suppressed with fallback.\n"
     ]
    },
    {
     "name": "stdout",
     "output_type": "stream",
     "text": [
      "Procesados 220/489 productos\n"
     ]
    },
    {
     "name": "stderr",
     "output_type": "stream",
     "text": [
      "Error occurred during getting browser(s): random, but was suppressed with fallback.\n",
      "Error occurred during getting browser(s): random, but was suppressed with fallback.\n",
      "Error occurred during getting browser(s): random, but was suppressed with fallback.\n",
      "Error occurred during getting browser(s): random, but was suppressed with fallback.\n",
      "Error occurred during getting browser(s): random, but was suppressed with fallback.\n",
      "Error occurred during getting browser(s): random, but was suppressed with fallback.\n",
      "Error occurred during getting browser(s): random, but was suppressed with fallback.\n",
      "Error occurred during getting browser(s): random, but was suppressed with fallback.\n",
      "Error occurred during getting browser(s): random, but was suppressed with fallback.\n",
      "Error occurred during getting browser(s): random, but was suppressed with fallback.\n",
      "Error occurred during getting browser(s): random, but was suppressed with fallback.\n"
     ]
    },
    {
     "name": "stdout",
     "output_type": "stream",
     "text": [
      "Procesados 230/489 productos\n"
     ]
    },
    {
     "name": "stderr",
     "output_type": "stream",
     "text": [
      "Error occurred during getting browser(s): random, but was suppressed with fallback.\n",
      "Error occurred during getting browser(s): random, but was suppressed with fallback.\n",
      "Error occurred during getting browser(s): random, but was suppressed with fallback.\n",
      "Error occurred during getting browser(s): random, but was suppressed with fallback.\n",
      "Error occurred during getting browser(s): random, but was suppressed with fallback.\n",
      "Error occurred during getting browser(s): random, but was suppressed with fallback.\n",
      "Error occurred during getting browser(s): random, but was suppressed with fallback.\n",
      "Error occurred during getting browser(s): random, but was suppressed with fallback.\n"
     ]
    },
    {
     "name": "stdout",
     "output_type": "stream",
     "text": [
      "Procesados 240/489 productos\n"
     ]
    },
    {
     "name": "stderr",
     "output_type": "stream",
     "text": [
      "Error occurred during getting browser(s): random, but was suppressed with fallback.\n",
      "Error occurred during getting browser(s): random, but was suppressed with fallback.\n",
      "Error occurred during getting browser(s): random, but was suppressed with fallback.\n",
      "Error occurred during getting browser(s): random, but was suppressed with fallback.\n",
      "Error occurred during getting browser(s): random, but was suppressed with fallback.\n",
      "Error occurred during getting browser(s): random, but was suppressed with fallback.\n",
      "Error occurred during getting browser(s): random, but was suppressed with fallback.\n",
      "Error occurred during getting browser(s): random, but was suppressed with fallback.\n",
      "Error occurred during getting browser(s): random, but was suppressed with fallback.\n",
      "Error occurred during getting browser(s): random, but was suppressed with fallback.\n",
      "Error occurred during getting browser(s): random, but was suppressed with fallback.\n"
     ]
    },
    {
     "name": "stdout",
     "output_type": "stream",
     "text": [
      "Procesados 250/489 productos\n"
     ]
    },
    {
     "name": "stderr",
     "output_type": "stream",
     "text": [
      "Error occurred during getting browser(s): random, but was suppressed with fallback.\n",
      "Error occurred during getting browser(s): random, but was suppressed with fallback.\n",
      "Error occurred during getting browser(s): random, but was suppressed with fallback.\n",
      "Error occurred during getting browser(s): random, but was suppressed with fallback.\n",
      "Error occurred during getting browser(s): random, but was suppressed with fallback.\n",
      "Error occurred during getting browser(s): random, but was suppressed with fallback.\n",
      "Error occurred during getting browser(s): random, but was suppressed with fallback.\n",
      "Error occurred during getting browser(s): random, but was suppressed with fallback.\n",
      "Error occurred during getting browser(s): random, but was suppressed with fallback.\n"
     ]
    },
    {
     "name": "stdout",
     "output_type": "stream",
     "text": [
      "Procesados 260/489 productos\n"
     ]
    },
    {
     "name": "stderr",
     "output_type": "stream",
     "text": [
      "Error occurred during getting browser(s): random, but was suppressed with fallback.\n",
      "Error occurred during getting browser(s): random, but was suppressed with fallback.\n",
      "Error occurred during getting browser(s): random, but was suppressed with fallback.\n",
      "Error occurred during getting browser(s): random, but was suppressed with fallback.\n",
      "Error occurred during getting browser(s): random, but was suppressed with fallback.\n",
      "Error occurred during getting browser(s): random, but was suppressed with fallback.\n",
      "Error occurred during getting browser(s): random, but was suppressed with fallback.\n",
      "Error occurred during getting browser(s): random, but was suppressed with fallback.\n",
      "Error occurred during getting browser(s): random, but was suppressed with fallback.\n",
      "Error occurred during getting browser(s): random, but was suppressed with fallback.\n",
      "Error occurred during getting browser(s): random, but was suppressed with fallback.\n"
     ]
    },
    {
     "name": "stdout",
     "output_type": "stream",
     "text": [
      "Procesados 270/489 productos\n"
     ]
    },
    {
     "name": "stderr",
     "output_type": "stream",
     "text": [
      "Error occurred during getting browser(s): random, but was suppressed with fallback.\n",
      "Error occurred during getting browser(s): random, but was suppressed with fallback.\n",
      "Error occurred during getting browser(s): random, but was suppressed with fallback.\n",
      "Error occurred during getting browser(s): random, but was suppressed with fallback.\n",
      "Error occurred during getting browser(s): random, but was suppressed with fallback.\n",
      "Error occurred during getting browser(s): random, but was suppressed with fallback.\n",
      "Error occurred during getting browser(s): random, but was suppressed with fallback.\n",
      "Error occurred during getting browser(s): random, but was suppressed with fallback.\n",
      "Error occurred during getting browser(s): random, but was suppressed with fallback.\n",
      "Error occurred during getting browser(s): random, but was suppressed with fallback.\n",
      "Error occurred during getting browser(s): random, but was suppressed with fallback.\n"
     ]
    },
    {
     "name": "stdout",
     "output_type": "stream",
     "text": [
      "Procesados 280/489 productos\n"
     ]
    },
    {
     "name": "stderr",
     "output_type": "stream",
     "text": [
      "Error occurred during getting browser(s): random, but was suppressed with fallback.\n",
      "Error occurred during getting browser(s): random, but was suppressed with fallback.\n",
      "Error occurred during getting browser(s): random, but was suppressed with fallback.\n",
      "Error occurred during getting browser(s): random, but was suppressed with fallback.\n",
      "Error occurred during getting browser(s): random, but was suppressed with fallback.\n",
      "Error occurred during getting browser(s): random, but was suppressed with fallback.\n",
      "Error occurred during getting browser(s): random, but was suppressed with fallback.\n",
      "Error occurred during getting browser(s): random, but was suppressed with fallback.\n",
      "Error occurred during getting browser(s): random, but was suppressed with fallback.\n",
      "Error occurred during getting browser(s): random, but was suppressed with fallback.\n",
      "Error occurred during getting browser(s): random, but was suppressed with fallback.\n"
     ]
    },
    {
     "name": "stdout",
     "output_type": "stream",
     "text": [
      "Procesados 290/489 productos\n"
     ]
    },
    {
     "name": "stderr",
     "output_type": "stream",
     "text": [
      "Error occurred during getting browser(s): random, but was suppressed with fallback.\n",
      "Error occurred during getting browser(s): random, but was suppressed with fallback.\n",
      "Error occurred during getting browser(s): random, but was suppressed with fallback.\n",
      "Error occurred during getting browser(s): random, but was suppressed with fallback.\n",
      "Error occurred during getting browser(s): random, but was suppressed with fallback.\n",
      "Error occurred during getting browser(s): random, but was suppressed with fallback.\n",
      "Error occurred during getting browser(s): random, but was suppressed with fallback.\n"
     ]
    },
    {
     "name": "stdout",
     "output_type": "stream",
     "text": [
      "Procesados 300/489 productos\n"
     ]
    },
    {
     "name": "stderr",
     "output_type": "stream",
     "text": [
      "Error occurred during getting browser(s): random, but was suppressed with fallback.\n",
      "Error occurred during getting browser(s): random, but was suppressed with fallback.\n",
      "Error occurred during getting browser(s): random, but was suppressed with fallback.\n",
      "Error occurred during getting browser(s): random, but was suppressed with fallback.\n",
      "Error occurred during getting browser(s): random, but was suppressed with fallback.\n",
      "Error occurred during getting browser(s): random, but was suppressed with fallback.\n",
      "Error occurred during getting browser(s): random, but was suppressed with fallback.\n",
      "Error occurred during getting browser(s): random, but was suppressed with fallback.\n",
      "Error occurred during getting browser(s): random, but was suppressed with fallback.\n",
      "Error occurred during getting browser(s): random, but was suppressed with fallback.\n"
     ]
    },
    {
     "name": "stdout",
     "output_type": "stream",
     "text": [
      "Procesados 310/489 productos\n"
     ]
    },
    {
     "name": "stderr",
     "output_type": "stream",
     "text": [
      "Error occurred during getting browser(s): random, but was suppressed with fallback.\n",
      "Error occurred during getting browser(s): random, but was suppressed with fallback.\n",
      "Error occurred during getting browser(s): random, but was suppressed with fallback.\n",
      "Error occurred during getting browser(s): random, but was suppressed with fallback.\n",
      "Error occurred during getting browser(s): random, but was suppressed with fallback.\n",
      "Error occurred during getting browser(s): random, but was suppressed with fallback.\n",
      "Error occurred during getting browser(s): random, but was suppressed with fallback.\n",
      "Error occurred during getting browser(s): random, but was suppressed with fallback.\n",
      "Error occurred during getting browser(s): random, but was suppressed with fallback.\n",
      "Error occurred during getting browser(s): random, but was suppressed with fallback.\n"
     ]
    },
    {
     "name": "stdout",
     "output_type": "stream",
     "text": [
      "Procesados 320/489 productos\n"
     ]
    },
    {
     "name": "stderr",
     "output_type": "stream",
     "text": [
      "Error occurred during getting browser(s): random, but was suppressed with fallback.\n",
      "Error occurred during getting browser(s): random, but was suppressed with fallback.\n",
      "Error occurred during getting browser(s): random, but was suppressed with fallback.\n",
      "Error occurred during getting browser(s): random, but was suppressed with fallback.\n",
      "Error occurred during getting browser(s): random, but was suppressed with fallback.\n",
      "Error occurred during getting browser(s): random, but was suppressed with fallback.\n",
      "Error occurred during getting browser(s): random, but was suppressed with fallback.\n",
      "Error occurred during getting browser(s): random, but was suppressed with fallback.\n",
      "Error occurred during getting browser(s): random, but was suppressed with fallback.\n",
      "Error occurred during getting browser(s): random, but was suppressed with fallback.\n",
      "Error occurred during getting browser(s): random, but was suppressed with fallback.\n"
     ]
    },
    {
     "name": "stdout",
     "output_type": "stream",
     "text": [
      "Procesados 330/489 productos\n"
     ]
    },
    {
     "name": "stderr",
     "output_type": "stream",
     "text": [
      "Error occurred during getting browser(s): random, but was suppressed with fallback.\n",
      "Error occurred during getting browser(s): random, but was suppressed with fallback.\n",
      "Error occurred during getting browser(s): random, but was suppressed with fallback.\n",
      "Error occurred during getting browser(s): random, but was suppressed with fallback.\n",
      "Error occurred during getting browser(s): random, but was suppressed with fallback.\n",
      "Error occurred during getting browser(s): random, but was suppressed with fallback.\n",
      "Error occurred during getting browser(s): random, but was suppressed with fallback.\n",
      "Error occurred during getting browser(s): random, but was suppressed with fallback.\n",
      "Error occurred during getting browser(s): random, but was suppressed with fallback.\n",
      "Error occurred during getting browser(s): random, but was suppressed with fallback.\n",
      "Error occurred during getting browser(s): random, but was suppressed with fallback.\n"
     ]
    },
    {
     "name": "stdout",
     "output_type": "stream",
     "text": [
      "Procesados 340/489 productos\n"
     ]
    },
    {
     "name": "stderr",
     "output_type": "stream",
     "text": [
      "Error occurred during getting browser(s): random, but was suppressed with fallback.\n",
      "Error occurred during getting browser(s): random, but was suppressed with fallback.\n",
      "Error occurred during getting browser(s): random, but was suppressed with fallback.\n",
      "Error occurred during getting browser(s): random, but was suppressed with fallback.\n",
      "Error occurred during getting browser(s): random, but was suppressed with fallback.\n",
      "Error occurred during getting browser(s): random, but was suppressed with fallback.\n",
      "Error occurred during getting browser(s): random, but was suppressed with fallback.\n",
      "Error occurred during getting browser(s): random, but was suppressed with fallback.\n",
      "Error occurred during getting browser(s): random, but was suppressed with fallback.\n"
     ]
    },
    {
     "name": "stdout",
     "output_type": "stream",
     "text": [
      "Procesados 350/489 productos\n"
     ]
    },
    {
     "name": "stderr",
     "output_type": "stream",
     "text": [
      "Error occurred during getting browser(s): random, but was suppressed with fallback.\n",
      "Error occurred during getting browser(s): random, but was suppressed with fallback.\n",
      "Error occurred during getting browser(s): random, but was suppressed with fallback.\n",
      "Error occurred during getting browser(s): random, but was suppressed with fallback.\n",
      "Error occurred during getting browser(s): random, but was suppressed with fallback.\n",
      "Error occurred during getting browser(s): random, but was suppressed with fallback.\n",
      "Error occurred during getting browser(s): random, but was suppressed with fallback.\n",
      "Error occurred during getting browser(s): random, but was suppressed with fallback.\n",
      "Error occurred during getting browser(s): random, but was suppressed with fallback.\n",
      "Error occurred during getting browser(s): random, but was suppressed with fallback.\n",
      "Error occurred during getting browser(s): random, but was suppressed with fallback.\n",
      "Error occurred during getting browser(s): random, but was suppressed with fallback.\n"
     ]
    },
    {
     "name": "stdout",
     "output_type": "stream",
     "text": [
      "Procesados 360/489 productos\n"
     ]
    },
    {
     "name": "stderr",
     "output_type": "stream",
     "text": [
      "Error occurred during getting browser(s): random, but was suppressed with fallback.\n",
      "Error occurred during getting browser(s): random, but was suppressed with fallback.\n",
      "Error occurred during getting browser(s): random, but was suppressed with fallback.\n",
      "Error occurred during getting browser(s): random, but was suppressed with fallback.\n",
      "Error occurred during getting browser(s): random, but was suppressed with fallback.\n",
      "Error occurred during getting browser(s): random, but was suppressed with fallback.\n",
      "Error occurred during getting browser(s): random, but was suppressed with fallback.\n"
     ]
    },
    {
     "name": "stdout",
     "output_type": "stream",
     "text": [
      "Procesados 370/489 productos\n"
     ]
    },
    {
     "name": "stderr",
     "output_type": "stream",
     "text": [
      "Error occurred during getting browser(s): random, but was suppressed with fallback.\n",
      "Error occurred during getting browser(s): random, but was suppressed with fallback.\n",
      "Error occurred during getting browser(s): random, but was suppressed with fallback.\n",
      "Error occurred during getting browser(s): random, but was suppressed with fallback.\n",
      "Error occurred during getting browser(s): random, but was suppressed with fallback.\n",
      "Error occurred during getting browser(s): random, but was suppressed with fallback.\n",
      "Error occurred during getting browser(s): random, but was suppressed with fallback.\n",
      "Error occurred during getting browser(s): random, but was suppressed with fallback.\n",
      "Error occurred during getting browser(s): random, but was suppressed with fallback.\n",
      "Error occurred during getting browser(s): random, but was suppressed with fallback.\n"
     ]
    },
    {
     "name": "stdout",
     "output_type": "stream",
     "text": [
      "Procesados 380/489 productos\n"
     ]
    },
    {
     "name": "stderr",
     "output_type": "stream",
     "text": [
      "Error occurred during getting browser(s): random, but was suppressed with fallback.\n",
      "Error occurred during getting browser(s): random, but was suppressed with fallback.\n",
      "Error occurred during getting browser(s): random, but was suppressed with fallback.\n",
      "Error occurred during getting browser(s): random, but was suppressed with fallback.\n",
      "Error occurred during getting browser(s): random, but was suppressed with fallback.\n",
      "Error occurred during getting browser(s): random, but was suppressed with fallback.\n",
      "Error occurred during getting browser(s): random, but was suppressed with fallback.\n",
      "Error occurred during getting browser(s): random, but was suppressed with fallback.\n",
      "Error occurred during getting browser(s): random, but was suppressed with fallback.\n",
      "Error occurred during getting browser(s): random, but was suppressed with fallback.\n",
      "Error occurred during getting browser(s): random, but was suppressed with fallback.\n",
      "Error occurred during getting browser(s): random, but was suppressed with fallback.\n"
     ]
    },
    {
     "name": "stdout",
     "output_type": "stream",
     "text": [
      "Procesados 390/489 productos\n"
     ]
    },
    {
     "name": "stderr",
     "output_type": "stream",
     "text": [
      "Error occurred during getting browser(s): random, but was suppressed with fallback.\n",
      "Error occurred during getting browser(s): random, but was suppressed with fallback.\n",
      "Error occurred during getting browser(s): random, but was suppressed with fallback.\n",
      "Error occurred during getting browser(s): random, but was suppressed with fallback.\n",
      "Error occurred during getting browser(s): random, but was suppressed with fallback.\n",
      "Error occurred during getting browser(s): random, but was suppressed with fallback.\n",
      "Error occurred during getting browser(s): random, but was suppressed with fallback.\n",
      "Error occurred during getting browser(s): random, but was suppressed with fallback.\n",
      "Error occurred during getting browser(s): random, but was suppressed with fallback.\n"
     ]
    },
    {
     "name": "stdout",
     "output_type": "stream",
     "text": [
      "Procesados 400/489 productos\n"
     ]
    },
    {
     "name": "stderr",
     "output_type": "stream",
     "text": [
      "Error occurred during getting browser(s): random, but was suppressed with fallback.\n",
      "Error occurred during getting browser(s): random, but was suppressed with fallback.\n",
      "Error occurred during getting browser(s): random, but was suppressed with fallback.\n",
      "Error occurred during getting browser(s): random, but was suppressed with fallback.\n",
      "Error occurred during getting browser(s): random, but was suppressed with fallback.\n",
      "Error occurred during getting browser(s): random, but was suppressed with fallback.\n",
      "Error occurred during getting browser(s): random, but was suppressed with fallback.\n",
      "Error occurred during getting browser(s): random, but was suppressed with fallback.\n",
      "Error occurred during getting browser(s): random, but was suppressed with fallback.\n",
      "Error occurred during getting browser(s): random, but was suppressed with fallback.\n"
     ]
    },
    {
     "name": "stdout",
     "output_type": "stream",
     "text": [
      "Procesados 410/489 productos\n"
     ]
    },
    {
     "name": "stderr",
     "output_type": "stream",
     "text": [
      "Error occurred during getting browser(s): random, but was suppressed with fallback.\n",
      "Error occurred during getting browser(s): random, but was suppressed with fallback.\n",
      "Error occurred during getting browser(s): random, but was suppressed with fallback.\n",
      "Error occurred during getting browser(s): random, but was suppressed with fallback.\n",
      "Error occurred during getting browser(s): random, but was suppressed with fallback.\n",
      "Error occurred during getting browser(s): random, but was suppressed with fallback.\n",
      "Error occurred during getting browser(s): random, but was suppressed with fallback.\n",
      "Error occurred during getting browser(s): random, but was suppressed with fallback.\n",
      "Error occurred during getting browser(s): random, but was suppressed with fallback.\n"
     ]
    },
    {
     "name": "stdout",
     "output_type": "stream",
     "text": [
      "Procesados 420/489 productos\n"
     ]
    },
    {
     "name": "stderr",
     "output_type": "stream",
     "text": [
      "Error occurred during getting browser(s): random, but was suppressed with fallback.\n",
      "Error occurred during getting browser(s): random, but was suppressed with fallback.\n",
      "Error occurred during getting browser(s): random, but was suppressed with fallback.\n",
      "Error occurred during getting browser(s): random, but was suppressed with fallback.\n",
      "Error occurred during getting browser(s): random, but was suppressed with fallback.\n",
      "Error occurred during getting browser(s): random, but was suppressed with fallback.\n",
      "Error occurred during getting browser(s): random, but was suppressed with fallback.\n",
      "Error occurred during getting browser(s): random, but was suppressed with fallback.\n",
      "Error occurred during getting browser(s): random, but was suppressed with fallback.\n",
      "Error occurred during getting browser(s): random, but was suppressed with fallback.\n",
      "Error occurred during getting browser(s): random, but was suppressed with fallback.\n"
     ]
    },
    {
     "name": "stdout",
     "output_type": "stream",
     "text": [
      "Procesados 430/489 productos\n"
     ]
    },
    {
     "name": "stderr",
     "output_type": "stream",
     "text": [
      "Error occurred during getting browser(s): random, but was suppressed with fallback.\n",
      "Error occurred during getting browser(s): random, but was suppressed with fallback.\n",
      "Error occurred during getting browser(s): random, but was suppressed with fallback.\n",
      "Error occurred during getting browser(s): random, but was suppressed with fallback.\n",
      "Error occurred during getting browser(s): random, but was suppressed with fallback.\n",
      "Error occurred during getting browser(s): random, but was suppressed with fallback.\n",
      "Error occurred during getting browser(s): random, but was suppressed with fallback.\n",
      "Error occurred during getting browser(s): random, but was suppressed with fallback.\n",
      "Error occurred during getting browser(s): random, but was suppressed with fallback.\n"
     ]
    },
    {
     "name": "stdout",
     "output_type": "stream",
     "text": [
      "Procesados 440/489 productos\n"
     ]
    },
    {
     "name": "stderr",
     "output_type": "stream",
     "text": [
      "Error occurred during getting browser(s): random, but was suppressed with fallback.\n",
      "Error occurred during getting browser(s): random, but was suppressed with fallback.\n",
      "Error occurred during getting browser(s): random, but was suppressed with fallback.\n",
      "Error occurred during getting browser(s): random, but was suppressed with fallback.\n",
      "Error occurred during getting browser(s): random, but was suppressed with fallback.\n",
      "Error occurred during getting browser(s): random, but was suppressed with fallback.\n",
      "Error occurred during getting browser(s): random, but was suppressed with fallback.\n",
      "Error occurred during getting browser(s): random, but was suppressed with fallback.\n",
      "Error occurred during getting browser(s): random, but was suppressed with fallback.\n"
     ]
    },
    {
     "name": "stdout",
     "output_type": "stream",
     "text": [
      "Procesados 450/489 productos\n"
     ]
    },
    {
     "name": "stderr",
     "output_type": "stream",
     "text": [
      "Error occurred during getting browser(s): random, but was suppressed with fallback.\n",
      "Error occurred during getting browser(s): random, but was suppressed with fallback.\n",
      "Error occurred during getting browser(s): random, but was suppressed with fallback.\n",
      "Error occurred during getting browser(s): random, but was suppressed with fallback.\n",
      "Error occurred during getting browser(s): random, but was suppressed with fallback.\n",
      "Error occurred during getting browser(s): random, but was suppressed with fallback.\n",
      "Error occurred during getting browser(s): random, but was suppressed with fallback.\n",
      "Error occurred during getting browser(s): random, but was suppressed with fallback.\n",
      "Error occurred during getting browser(s): random, but was suppressed with fallback.\n",
      "Error occurred during getting browser(s): random, but was suppressed with fallback.\n",
      "Error occurred during getting browser(s): random, but was suppressed with fallback.\n"
     ]
    },
    {
     "name": "stdout",
     "output_type": "stream",
     "text": [
      "Procesados 460/489 productos\n"
     ]
    },
    {
     "name": "stderr",
     "output_type": "stream",
     "text": [
      "Error occurred during getting browser(s): random, but was suppressed with fallback.\n",
      "Error occurred during getting browser(s): random, but was suppressed with fallback.\n",
      "Error occurred during getting browser(s): random, but was suppressed with fallback.\n",
      "Error occurred during getting browser(s): random, but was suppressed with fallback.\n",
      "Error occurred during getting browser(s): random, but was suppressed with fallback.\n",
      "Error occurred during getting browser(s): random, but was suppressed with fallback.\n",
      "Error occurred during getting browser(s): random, but was suppressed with fallback.\n",
      "Error occurred during getting browser(s): random, but was suppressed with fallback.\n",
      "Error occurred during getting browser(s): random, but was suppressed with fallback.\n",
      "Error occurred during getting browser(s): random, but was suppressed with fallback.\n",
      "Error occurred during getting browser(s): random, but was suppressed with fallback.\n"
     ]
    },
    {
     "name": "stdout",
     "output_type": "stream",
     "text": [
      "Procesados 470/489 productos\n"
     ]
    },
    {
     "name": "stderr",
     "output_type": "stream",
     "text": [
      "Error occurred during getting browser(s): random, but was suppressed with fallback.\n",
      "Error occurred during getting browser(s): random, but was suppressed with fallback.\n",
      "Error occurred during getting browser(s): random, but was suppressed with fallback.\n",
      "Error occurred during getting browser(s): random, but was suppressed with fallback.\n",
      "Error occurred during getting browser(s): random, but was suppressed with fallback.\n",
      "Error occurred during getting browser(s): random, but was suppressed with fallback.\n",
      "Error occurred during getting browser(s): random, but was suppressed with fallback.\n"
     ]
    },
    {
     "name": "stdout",
     "output_type": "stream",
     "text": [
      "Procesados 480/489 productos\n",
      "\n",
      "Datos guardados en SQL Server: 489 productos.\n",
      "Tiempo total: 74.46 segundos\n",
      "Productos procesados por segundo: 6.57\n"
     ]
    }
   ],
   "source": [
    "from bs4 import BeautifulSoup\n",
    "import requests\n",
    "import pandas as pd\n",
    "from concurrent.futures import ThreadPoolExecutor, as_completed\n",
    "import time\n",
    "import pyodbc\n",
    "from fake_useragent import UserAgent\n",
    "import random\n",
    "\n",
    "# URL de la sección de componentes de PC\n",
    "section_url = \"https://listado.mercadolibre.com.ar/componentes-de-pc#D[A:Componentes%20de%20PC]\" \n",
    "\n",
    "\n",
    "\n",
    "# Configuración avanzada\n",
    "ua = UserAgent(\n",
    "    browsers=['chrome', 'firefox', 'safari'],  # Navegadores comunes\n",
    "    platforms=['windows', 'macos', 'linux'],   # Sistemas operativos\n",
    "    min_percentage=1.5  # Solo agentes con al menos 1.5% de uso global\n",
    ")\n",
    "\n",
    "def get_random_headers():\n",
    "    return {\n",
    "        'User-Agent': ua.random,\n",
    "        'Accept-Language': 'es-ES,es;q=0.9',\n",
    "        'Referer': random.choice([\n",
    "            'https://www.google.com/',\n",
    "            'https://www.mercadolibre.com.ar/',\n",
    "            'https://www.bing.com/'\n",
    "        ]),\n",
    "        'Sec-Fetch-Dest': 'document',\n",
    "        'Sec-Fetch-Mode': 'navigate',\n",
    "        'DNT': str(random.randint(1, 2))  # 30% de probabilidad de DNT\n",
    "    }\n",
    "    \n",
    "\n",
    "\n",
    "\n",
    "# Configuración de threading\n",
    "MAX_THREADS = 10  # Ajustar según necesidad y para no saturar el servidor\n",
    "REQUEST_TIMEOUT = 10  # Segundos\n",
    "\n",
    "# Configuración de SQL Server\n",
    "SERVER = 'localhost'  # Ejemplo: 'LAPTOP-ABC123\\SQLEXPRESS' o 'localhost'\n",
    "DATABASE = 'MercadoLibre'\n",
    "USERNAME = 'mateoYo'     # Dejar en blanco si usas autenticación de Windows\n",
    "PASSWORD = 'gatogris'  # Dejar en blanco si usas autenticación de Windows\n",
    "TRUSTED_CONNECTION = 'yes'  # Usar 'yes' para autenticación de Windows, 'no' para SQL auth\n",
    "\n",
    "def get_product_links(base_url, num_pages=5):\n",
    "    product_links = []\n",
    "    for i in range(num_pages):\n",
    "        page_offset = i * 48\n",
    "        url = f\"{base_url}_Desde_{page_offset}_NoIndex_True\" if page_offset > 0 else base_url\n",
    "\n",
    "        try:\n",
    "            response = requests.get(url, headers=get_random_headers(), timeout=REQUEST_TIMEOUT)\n",
    "            soup = BeautifulSoup(response.content, \"html.parser\")\n",
    "\n",
    "            for a_tag in soup.find_all(\"a\", href=True):\n",
    "                href = a_tag[\"href\"]\n",
    "                if \"mercadolibre.com.ar\" in href and \"/p/\" in href:\n",
    "                    full_link = href.split(\"?\")[0]\n",
    "                    if full_link not in product_links:\n",
    "                        product_links.append(full_link)\n",
    "        except Exception as e:\n",
    "            print(f\"Error obteniendo enlaces de página {i+1}: {e}\")\n",
    "\n",
    "    return product_links\n",
    "\n",
    "#Clasificación optimizada con diccionario\n",
    "PRODUCT_CATEGORIES = {\n",
    "    'procesador': ['procesador', 'cpu', 'core i'],\n",
    "    'ram': ['ram', 'memoria'],\n",
    "    'placa de video': ['placa de video', 'gpu', 'rtx', 'gtx'],\n",
    "    'disco': ['disco', 'ssd', 'hdd'],\n",
    "    'gabinete': ['gabinete'],\n",
    "    'placa madre': ['placa madre', 'motherboard'],\n",
    "    'cooler': ['cooler', 'ventilador'],\n",
    "    'pasta térmica': ['térmica', 'thermal']\n",
    "}\n",
    "\n",
    "def classify_product_type(title):\n",
    "    \"\"\"Clasificación con búsqueda por palabras clave\"\"\"\n",
    "    if not title:\n",
    "        return \"Otro\"\n",
    "    \n",
    "    title_lower = title.lower()\n",
    "    for category, keywords in PRODUCT_CATEGORIES.items():\n",
    "        if any(keyword in title_lower for keyword in keywords):\n",
    "            return category\n",
    "    return \"Otro\"\n",
    "\n",
    "def extract_product_data(URL):\n",
    "    \"\"\"\n",
    "    recibe un link, extrae los datos utilizando requests y BeautifulSoup con las etiquetas HTLM correspondientes y crea un diccionario con las claves; Título, tipo, Precio, Calificación, Opiniones, Vendidos\n",
    "    :parametro (URL): URl de un producto especifico\n",
    "    :return: diccionario datos estruturados\n",
    "    \"\"\"\n",
    "    product_data = {'URL': URL}\n",
    "    \n",
    "    try:\n",
    "        webpage = requests.get(URL, headers=get_random_headers(), timeout=REQUEST_TIMEOUT)\n",
    "        soup = BeautifulSoup(webpage.content, \"html.parser\")\n",
    "\n",
    "        # Título y tipo\n",
    "        try:\n",
    "            title = soup.find(\"h1\", class_=\"ui-pdp-title\").text.strip()\n",
    "            product_data['Title'] = title\n",
    "            product_data['Type'] = classify_product_type(title)\n",
    "        except AttributeError:\n",
    "            product_data['Title'] = \"NA\"\n",
    "            product_data['Type'] = \"NA\"\n",
    "\n",
    "        # Precio\n",
    "        try:\n",
    "            price = soup.find(\"span\", class_=\"andes-money-amount__fraction\").text.strip().replace(\".\", \"\")\n",
    "            product_data['Price'] = int(price)\n",
    "        except (AttributeError, ValueError):\n",
    "            product_data['Price'] = 0  # Usar 0 para valor numérico\n",
    "\n",
    "        # Calificación\n",
    "        try:\n",
    "            rating = soup.find(\"span\", class_=\"ui-pdp-review__rating\").text.strip().replace(\".\", \",\")\n",
    "            product_data['Rating'] = rating\n",
    "        except AttributeError:\n",
    "            product_data['Rating'] = \"0\"\n",
    "\n",
    "        # Opiniones\n",
    "        try:\n",
    "            reviews = soup.find(\"span\", class_=\"ui-pdp-review__amount\").text.strip(\"()\").replace(\".\", \"\")\n",
    "            product_data['Reviews'] = int(reviews)\n",
    "        except (AttributeError, ValueError):\n",
    "            product_data['Reviews'] = 0  # Usar 0 para valor numérico\n",
    "\n",
    "        # Vendidos\n",
    "        try:\n",
    "            sold_text = soup.find(\"span\", class_=\"ui-pdp-subtitle\").text.strip()\n",
    "            if \"vendidos\" in sold_text:\n",
    "                sold_number = (\n",
    "                    sold_text.split(\"|\")[-1]\n",
    "                    .replace(\"vendidos\", \"\")\n",
    "                    .replace(\"+\", \"\")\n",
    "                    .replace(\"mil\", \"000\")\n",
    "                    .strip()\n",
    "                )\n",
    "                product_data['Sold'] = int(sold_number)\n",
    "            else:\n",
    "                product_data['Sold'] = 0  # Usar 0 para valor numérico\n",
    "        except (AttributeError, ValueError):\n",
    "            product_data['Sold'] = 0  # Usar 0 para valor numérico\n",
    "\n",
    "    except Exception as e:\n",
    "        print(f\"Error procesando {URL}: {e}\")\n",
    "\n",
    "    return product_data\n",
    "\n",
    "def create_db_connection():\n",
    "    \"\"\"Establece conexión con SQL Server\"\"\"\n",
    "    conn_str = f'DRIVER={{ODBC Driver 17 for SQL Server}};SERVER={SERVER};DATABASE={DATABASE};'\n",
    "    \n",
    "    # Determinar tipo de autenticación\n",
    "    if TRUSTED_CONNECTION == 'yes':\n",
    "        conn_str += 'Trusted_Connection=yes;'\n",
    "    else:\n",
    "        conn_str += f'UID={USERNAME};PWD={PASSWORD};'\n",
    "    \n",
    "    try:\n",
    "        return pyodbc.connect(conn_str)\n",
    "    except Exception as e:\n",
    "        print(f\"Error de conexión a la base de datos: {e}\")\n",
    "        return None\n",
    "\n",
    "def create_products_table(conn):\n",
    "    \"\"\"Crea la tabla de productos si no existe\"\"\"\n",
    "    cursor = conn.cursor()\n",
    "    try:\n",
    "        cursor.execute('''\n",
    "        IF NOT EXISTS (SELECT * FROM sys.tables WHERE name = 'ProductosMercadoLibre')\n",
    "        BEGIN\n",
    "            CREATE TABLE ProductosMercadoLibre (\n",
    "                ID INT IDENTITY(1,1) PRIMARY KEY,\n",
    "                URL NVARCHAR(500) NOT NULL,\n",
    "                Title NVARCHAR(500),\n",
    "                Type NVARCHAR(100),\n",
    "                Price INT,\n",
    "                Rating NVARCHAR(10),\n",
    "                Reviews INT,\n",
    "                Sold INT,\n",
    "                FechaExtraccion DATETIME DEFAULT GETDATE()\n",
    "            )\n",
    "        END\n",
    "        ''')\n",
    "        conn.commit()\n",
    "        print(\"Tabla de productos verificada/creada correctamente.\")\n",
    "    except Exception as e:\n",
    "        print(f\"Error al crear la tabla: {e}\")\n",
    "    finally:\n",
    "        cursor.close()\n",
    "\n",
    "def insert_product_into_db(conn, product_data):\n",
    "    \"\"\"Inserta un producto en la base de datos\"\"\"\n",
    "    cursor = conn.cursor()\n",
    "    try:\n",
    "        cursor.execute('''\n",
    "        INSERT INTO ProductosMercadoLibre (URL, Title, Type, Price, Rating, Reviews, Sold)\n",
    "        VALUES (?, ?, ?, ?, ?, ?, ?)\n",
    "        ''', \n",
    "        product_data['URL'], \n",
    "        product_data['Title'], \n",
    "        product_data['Type'], \n",
    "        product_data['Price'], \n",
    "        product_data['Rating'], \n",
    "        product_data['Reviews'], \n",
    "        product_data['Sold'])\n",
    "        conn.commit()\n",
    "        return True\n",
    "    except Exception as e:\n",
    "        print(f\"Error al insertar producto: {e}\")\n",
    "        return False\n",
    "    finally:\n",
    "        cursor.close()\n",
    "\n",
    "def main():\n",
    "    start_time = time.time()\n",
    "    \n",
    "    # Conexión a la base de datos\n",
    "    conn = create_db_connection()\n",
    "    if not conn:\n",
    "        print(\"No se pudo establecer conexión a la base de datos. Saliendo...\")\n",
    "        return\n",
    "    \n",
    "    # Crear tabla si no existe\n",
    "    create_products_table(conn)\n",
    "    \n",
    "    # Obtener enlaces\n",
    "    num_pages = 10\n",
    "    print(f\"Obteniendo enlaces de {num_pages} páginas...\")\n",
    "    product_links = get_product_links(section_url, num_pages=num_pages)\n",
    "    print(f\"Se encontraron {len(product_links)} enlaces únicos.\")\n",
    "    \n",
    "    # Procesar productos con ThreadPoolExecutor\n",
    "    print(\"Extrayendo datos de productos...\")\n",
    "    productos_procesados = 0\n",
    "    productos_insertados = 0\n",
    "    \n",
    "    with ThreadPoolExecutor(max_workers=MAX_THREADS) as executor:\n",
    "        # Crear un futuro por cada URL\n",
    "        futures = {executor.submit(extract_product_data, link): link for link in product_links}\n",
    "        \n",
    "        # Procesar resultados conforme van terminando\n",
    "        for i, future in enumerate(as_completed(futures), 1):\n",
    "            link = futures[future]\n",
    "            try:\n",
    "                product_data = future.result()\n",
    "                productos_procesados += 1\n",
    "                \n",
    "                # Insertar en la base de datos\n",
    "                if insert_product_into_db(conn, product_data):\n",
    "                    productos_insertados += 1\n",
    "                \n",
    "                if i % 10 == 0:  # Mostrar progreso cada 10 productos\n",
    "                    print(f\"Procesados {i}/{len(product_links)} productos\")\n",
    "            except Exception as e:\n",
    "                print(f\"Error procesando {link}: {e}\")\n",
    "\n",
    "    # Cerrar conexión a la base de datos\n",
    "    conn.close()\n",
    "    \n",
    "    total_time = time.time() - start_time\n",
    "    print(f\"\\nDatos guardados en SQL Server: {productos_insertados} productos.\")\n",
    "    print(f\"Tiempo total: {total_time:.2f} segundos\")\n",
    "    print(f\"Productos procesados por segundo: {productos_procesados/total_time:.2f}\")\n",
    "\n",
    "if __name__ == '__main__':\n",
    "    main()"
   ]
  },
  {
   "cell_type": "code",
   "execution_count": null,
   "id": "57c77093",
   "metadata": {},
   "outputs": [],
   "source": [
    "response = requests.get(\n",
    "    url, \n",
    "    params={\"q\": \"python\", \"page\": 2},   # (1) Parámetros de consulta (= ?q=python&page=2)\n",
    "    headers=headers,                     # (2) Cabeceras HTTP personalizadas\n",
    "    cookies={\"sessionid\": \"abc123\"},     # (3) Cookies a enviar\n",
    "    proxies=proxies,                     # (4) Proxies HTTP/HTTPS\n",
    "    timeout=10,                          # (5) Tiempo máximo en segundos\n",
    "    allow_redirects=True,                # (6) Si sigue redirecciones (default: True)\n",
    "    stream=False                         # (7) Si descarga de forma “streaming”\n",
    ")\n",
    "\n"
   ]
  }
 ],
 "metadata": {
  "kernelspec": {
   "display_name": "Python 3",
   "language": "python",
   "name": "python3"
  },
  "language_info": {
   "codemirror_mode": {
    "name": "ipython",
    "version": 3
   },
   "file_extension": ".py",
   "mimetype": "text/x-python",
   "name": "python",
   "nbconvert_exporter": "python",
   "pygments_lexer": "ipython3",
   "version": "3.12.8"
  }
 },
 "nbformat": 4,
 "nbformat_minor": 5
}
